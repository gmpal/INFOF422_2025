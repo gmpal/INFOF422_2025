{
  "nbformat": 4,
  "nbformat_minor": 0,
  "metadata": {
    "colab": {
      "provenance": [],
      "authorship_tag": "ABX9TyOgScGXj5/2FxOwuo2sq0IA",
      "include_colab_link": true
    },
    "kernelspec": {
      "name": "python3",
      "display_name": "Python 3"
    },
    "language_info": {
      "name": "python"
    }
  },
  "cells": [
    {
      "cell_type": "markdown",
      "metadata": {
        "id": "view-in-github",
        "colab_type": "text"
      },
      "source": [
        "<a href=\"https://colab.research.google.com/github/gmpal/INFOF422_2025/blob/main/Schedule.ipynb\" target=\"_parent\"><img src=\"https://colab.research.google.com/assets/colab-badge.svg\" alt=\"Open In Colab\"/></a>"
      ]
    },
    {
      "cell_type": "code",
      "execution_count": null,
      "metadata": {
        "id": "m34xFVon9YqI"
      },
      "outputs": [],
      "source": []
    },
    {
      "cell_type": "markdown",
      "source": [
        "13/2/25 TP1:\n",
        "- remove basic language\n",
        "- add some probability exercises\n",
        "- test probabilistic relationships in Gaussian distributions\n",
        "    - P(\\mu-3 \\sigma <=z <=\\mu+3 \\sigma}\n",
        "- Monte Carlo simulation\n",
        "- Bivariate and multivariate Gaussian\n",
        "\n",
        "\n",
        "TP2: linear models\n",
        "- no univariate regression: start with multiple\n",
        "- multivariate regression with transformation of inputs\n",
        "- tests residuals\n",
        "- RBF\n",
        "- ridge regression\n",
        "\n",
        "\n",
        "\n",
        "TP3 :\n",
        "- preprocessing, normalisation, removal NA\n",
        "- network based -> neural networks\n",
        "- sklearn pipeline\n",
        "\n",
        "\n",
        "TP4 neural network\n",
        "\n",
        "TP5 feature selection\n",
        "-PCA\n",
        "-ranking\n",
        "-mRMR\n",
        "- wrapper\n",
        "\n",
        "TP6 classification\n",
        "- ROc curve\n",
        "- multiclass\n",
        "- ensemble\n",
        "\n",
        "-\n"
      ],
      "metadata": {
        "id": "1mYOanqF9aAj"
      }
    }
  ]
}