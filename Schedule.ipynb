{
  "nbformat": 4,
  "nbformat_minor": 0,
  "metadata": {
    "colab": {
      "provenance": [],
      "authorship_tag": "ABX9TyMkWcBUPVSuZ7EplXYg8PkD",
      "include_colab_link": true
    },
    "kernelspec": {
      "name": "python3",
      "display_name": "Python 3"
    },
    "language_info": {
      "name": "python"
    }
  },
  "cells": [
    {
      "cell_type": "markdown",
      "metadata": {
        "id": "view-in-github",
        "colab_type": "text"
      },
      "source": [
        "<a href=\"https://colab.research.google.com/github/gmpal/INFOF422_2025/blob/main/Schedule.ipynb\" target=\"_parent\"><img src=\"https://colab.research.google.com/assets/colab-badge.svg\" alt=\"Open In Colab\"/></a>"
      ]
    },
    {
      "cell_type": "code",
      "execution_count": null,
      "metadata": {
        "id": "m34xFVon9YqI"
      },
      "outputs": [],
      "source": []
    },
    {
      "cell_type": "markdown",
      "source": [
        "## 13/2/25 TP1 (Pascal): Python basics, probability and MC\n",
        "\n",
        "*   remove basic language\n",
        "*   add some probability exercises\n",
        "* Monte Carlo simulation\n",
        "* test probabilistic relationships in Gaussian distributions:\n",
        "\n",
        "  $P(\\mu-3 \\sigma \\le {\\mathbf z} \\le \\mu+3 \\sigma)$\n",
        "\n",
        "* Bivariate and multivariate Gaussian\n",
        "\n",
        "\n",
        "\n",
        "\n",
        "## 27/2/25 TP2: multivariate linear models\n",
        "- no univariate regression: start with multivariate regression\n",
        "- multivariate regression with transformation of inputs\n",
        "- tests residuals\n",
        "- RBF\n",
        "- ridge regression\n",
        "\n",
        "\n",
        "\n",
        "## 13/3/25 TP3: introduction to supervised learning\n",
        "- preprocessing, normalisation, removal NA\n",
        "- nearest neighbour (implementation)\n",
        "- sklearn:\n",
        "  * regression trees\n",
        "  * random forests\n",
        "- sklearn pipeline\n",
        "\n",
        "\n",
        "## 20/3/2025 TP4 neural network\n",
        "\n",
        "- Pytorch?\n",
        "\n",
        "## 27/3/2025 TP5 feature selection\n",
        "- PCA\n",
        "- ranking\n",
        "- mRMR\n",
        "- wrapper\n",
        "\n",
        "## 3/4/25 TP6 classification\n",
        "- Notions precision/recall/TPR/TPN\n",
        "- ROC curve\n",
        "- multiclass\n",
        "- ensemble\n",
        "\n",
        "\n"
      ],
      "metadata": {
        "id": "1mYOanqF9aAj"
      }
    }
  ]
}