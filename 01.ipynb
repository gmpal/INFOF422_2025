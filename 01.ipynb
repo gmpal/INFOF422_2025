{
 "cells": [
  {
   "cell_type": "markdown",
   "id": "5b134ead",
   "metadata": {},
   "source": [
    "# INFO-F-422 -  Statistical Foundations of Machine Learning \n",
    "\n",
    "### Gian Marco Paldino - __[gian.marco.paldino@ulb.be](mailto:gian.marco.paldino@ulb.be)__\n",
    "### Cédric Simar - __[cedric.simar@ulb.be](mailto:cedric.simar@ulb.be)__\n",
    "\n",
    "## TP 1 - Introduction to R\n",
    "\n",
    "####  February 2023\n",
    "\n",
    "#### Materials originally developed by *Yann-Aël Le Borgne, Fabrizio Carcillo and Gianluca Bontempi*\n"
   ]
  },
  {
   "cell_type": "markdown",
   "id": "a2928206",
   "metadata": {},
   "source": [
    "### Use Python as a calculator"
   ]
  },
  {
   "cell_type": "code",
   "execution_count": null,
   "id": "15594779",
   "metadata": {},
   "outputs": [],
   "source": [
    "2 + 2"
   ]
  },
  {
   "cell_type": "code",
   "execution_count": null,
   "id": "67d4b316",
   "metadata": {},
   "outputs": [],
   "source": [
    "import math\n",
    "math.exp(-2)"
   ]
  },
  {
   "cell_type": "code",
   "execution_count": null,
   "id": "a7ecb6f5",
   "metadata": {},
   "outputs": [],
   "source": [
    "import numpy as np\n",
    "# generate random numbers from a standard normal distribution\n",
    "np.random.randn(15)"
   ]
  },
  {
   "cell_type": "markdown",
   "id": "4d577565",
   "metadata": {},
   "source": [
    "### Assign values to variables"
   ]
  },
  {
   "cell_type": "code",
   "execution_count": null,
   "id": "e1043e0c",
   "metadata": {},
   "outputs": [],
   "source": [
    "x = 2\n",
    "x"
   ]
  },
  {
   "cell_type": "code",
   "execution_count": null,
   "id": "83dc817f",
   "metadata": {},
   "outputs": [],
   "source": [
    "y = x + x\n",
    "y"
   ]
  },
  {
   "cell_type": "markdown",
   "id": "dacdcac1",
   "metadata": {},
   "source": [
    "### Installing and loading libraries\n",
    "\n",
    "In Python, you install packages using `pip` or `conda` outside the script. For instance:  \n",
    "`pip install numpy pandas matplotlib scipy`\n",
    "\n",
    "Then you can import them:"
   ]
  },
  {
   "cell_type": "code",
   "execution_count": 204,
   "id": "8bab173c",
   "metadata": {},
   "outputs": [],
   "source": [
    "import pandas as pd\n",
    "import matplotlib.pyplot as plt\n",
    "from scipy import stats"
   ]
  },
  {
   "cell_type": "markdown",
   "id": "7ff5ec5c",
   "metadata": {},
   "source": [
    "### Naming conventions\n",
    "\n",
    "Python naming conventions are guidelines for naming variables, functions, classes, and other identifiers to improve code readability and consistency. Python follows the PEP 8 style guide, which recommends using **snake_case** (lowercase letters separated by underscores) for variable and function names, while **PascalCase** (each word capitalized, no underscores) is preferred for class names. Constants are written in **ALL_CAPS**, with underscores separating words. Private or internal names often start with a single underscore (_), while double underscores (__name__) can signal special methods or prevent name collisions in subclasses. Adhering to these conventions ensures that code is easier to understand and maintain, especially in collaborative projects. Variables are case-sensitive and cannot start with a number. Avoid using built-ins like `list`, `dict`, etc.\n",
    "\n",
    "---\n",
    "\n",
    "## Vectors and arrays in Python\n",
    "\n",
    "### Defining arrays (vectors)"
   ]
  },
  {
   "cell_type": "code",
   "execution_count": null,
   "id": "8c18ad67",
   "metadata": {},
   "outputs": [],
   "source": [
    "w = np.array([1,2,3,4])\n",
    "x = np.array([1.5, 2.5, 3.5, 3.5])\n",
    "y = np.array([\"Huey\", \"Dewey\", \"Loui\"])\n",
    "z = np.array([True, False, False, True])\n",
    "wx = w > x\n",
    "wx"
   ]
  },
  {
   "cell_type": "markdown",
   "id": "b389e5af",
   "metadata": {},
   "source": [
    "### Creating sequences and repetitions"
   ]
  },
  {
   "cell_type": "code",
   "execution_count": null,
   "id": "84be89ab",
   "metadata": {},
   "outputs": [],
   "source": [
    "# Sequence from 1 to 4\n",
    "x = np.arange(1,5)  \n",
    "x\n"
   ]
  },
  {
   "cell_type": "code",
   "execution_count": null,
   "id": "f4f0c0da",
   "metadata": {},
   "outputs": [],
   "source": [
    "\n",
    "# Repeat the number 1 four times\n",
    "y = np.repeat(1,4)\n",
    "y"
   ]
  },
  {
   "cell_type": "markdown",
   "id": "8a5b4a7a",
   "metadata": {},
   "source": [
    "### Exercises\n",
    "\n",
    "Generate the vectors:  \n",
    "- `1 3 5`  \n",
    "- `1 2 2 2 3 3 3 3 3`"
   ]
  },
  {
   "cell_type": "code",
   "execution_count": null,
   "id": "98df2571",
   "metadata": {},
   "outputs": [],
   "source": [
    "seq_135 = np.arange(1,6,2)\n",
    "seq_135\n",
    "\n"
   ]
  },
  {
   "cell_type": "code",
   "execution_count": null,
   "id": "6c060ebd",
   "metadata": {},
   "outputs": [],
   "source": [
    "seq_complex = np.concatenate([np.repeat(1,1), np.repeat(2,3), np.repeat(3,5)])\n",
    "seq_complex"
   ]
  },
  {
   "cell_type": "markdown",
   "id": "f9326fa4",
   "metadata": {},
   "source": [
    "### Vector arithmetic"
   ]
  },
  {
   "cell_type": "code",
   "execution_count": null,
   "id": "5a2b2fd8",
   "metadata": {},
   "outputs": [],
   "source": [
    "weight = np.array([60, 72, 57, 90, 95, 72,60])\n",
    "height = np.array([1.75, 1.80, 1.65, 1.90, 1.74, 1.91,1.69])\n",
    "bmi = weight / height**2\n",
    "bmi"
   ]
  },
  {
   "cell_type": "markdown",
   "id": "7aee0087",
   "metadata": {},
   "source": [
    "### Exercises\n",
    "\n",
    "*  Compute the adjusted BMI using the formula $bmi_2=\\frac{weight}{height^{2.5}/1.3}$ and store it in a variable  `bmi2` \n",
    "\n",
    "#### Solution\n"
   ]
  },
  {
   "cell_type": "code",
   "execution_count": null,
   "id": "23f18148",
   "metadata": {},
   "outputs": [],
   "source": [
    "bmi2 = weight/(height**2.5/1.3)\n",
    "bmi2"
   ]
  },
  {
   "cell_type": "markdown",
   "id": "74f73149",
   "metadata": {},
   "source": [
    "### Functions for arrays"
   ]
  },
  {
   "cell_type": "code",
   "execution_count": 212,
   "id": "a05ecc0d",
   "metadata": {},
   "outputs": [],
   "source": [
    "v = np.arange(5,0,-1)"
   ]
  },
  {
   "cell_type": "code",
   "execution_count": null,
   "id": "cf36530a",
   "metadata": {},
   "outputs": [],
   "source": [
    "v.sum()"
   ]
  },
  {
   "cell_type": "code",
   "execution_count": null,
   "id": "68b90901",
   "metadata": {},
   "outputs": [],
   "source": [
    "len(v)"
   ]
  },
  {
   "cell_type": "code",
   "execution_count": null,
   "id": "9b6d44eb",
   "metadata": {},
   "outputs": [],
   "source": [
    "np.sort(v)"
   ]
  },
  {
   "cell_type": "code",
   "execution_count": null,
   "id": "38396750",
   "metadata": {},
   "outputs": [],
   "source": [
    "np.mean(v)"
   ]
  },
  {
   "cell_type": "code",
   "execution_count": null,
   "id": "dde7ffb0",
   "metadata": {},
   "outputs": [],
   "source": [
    "np.std(v, ddof=1) # sample std"
   ]
  },
  {
   "cell_type": "markdown",
   "id": "4bcdc776",
   "metadata": {},
   "source": [
    "### Indexing arrays"
   ]
  },
  {
   "cell_type": "code",
   "execution_count": null,
   "id": "1a7ef548",
   "metadata": {},
   "outputs": [],
   "source": [
    "height[4]  # 5th element (0-based indexing)"
   ]
  },
  {
   "cell_type": "code",
   "execution_count": null,
   "id": "eefdc48d",
   "metadata": {},
   "outputs": [],
   "source": [
    "height[[2,4,6]] # pick indices 2,4,6"
   ]
  },
  {
   "cell_type": "code",
   "execution_count": null,
   "id": "e79c779f",
   "metadata": {},
   "outputs": [],
   "source": [
    "height[height > 1.70]  # conditional indexing"
   ]
  },
  {
   "cell_type": "code",
   "execution_count": null,
   "id": "77f91228",
   "metadata": {},
   "outputs": [],
   "source": [
    "height[(height>1.70) & (height<1.90)]"
   ]
  },
  {
   "cell_type": "markdown",
   "id": "0c2ba894",
   "metadata": {},
   "source": [
    "### Matrices\n",
    "\n",
    "In Python, we use NumPy to handle arrays (matrices and tensors). NumPy arrays can contain elements of any numeric type. <br>\n",
    "You can reshape a vector into a matrix using reshape() method in NumPy."
   ]
  },
  {
   "cell_type": "code",
   "execution_count": null,
   "id": "a7d097d1",
   "metadata": {},
   "outputs": [],
   "source": [
    "import numpy as np\n",
    "\n",
    "x = np.arange(1, 13)\n",
    "x = x.reshape(3, 4)\n",
    "x"
   ]
  },
  {
   "cell_type": "code",
   "execution_count": null,
   "id": "b4f15945",
   "metadata": {},
   "outputs": [],
   "source": [
    "np.array([1, 2, 3, 4, 5, 6, 7, 8, 9, 10, 11, 12]).reshape(3, 4, order='F')\n"
   ]
  },
  {
   "cell_type": "code",
   "execution_count": null,
   "id": "37e9cd81",
   "metadata": {},
   "outputs": [],
   "source": [
    "np.full((6, 7), 1)\n"
   ]
  },
  {
   "cell_type": "code",
   "execution_count": null,
   "id": "1b7db3f2",
   "metadata": {},
   "outputs": [],
   "source": [
    "np.array([1, 2, 3, 4, 5, 6, 7, 8, 9, 10, 11, 12]).reshape(3, 4)\n"
   ]
  },
  {
   "cell_type": "code",
   "execution_count": null,
   "id": "c6b91980",
   "metadata": {},
   "outputs": [],
   "source": [
    "# Adding column names\n",
    "import pandas as pd\n",
    "\n",
    "x = np.array([1, 2, 3, 4, 5, 6, 7, 8, 9, 10, 11, 12]).reshape(3, 4)\n",
    "df = pd.DataFrame(x, index=['A', 'B', 'C'])\n",
    "df\n"
   ]
  },
  {
   "cell_type": "code",
   "execution_count": null,
   "id": "f312ba44",
   "metadata": {},
   "outputs": [],
   "source": [
    "# Stack two arrays vertically\n",
    "np.column_stack((np.arange(1, 5), np.arange(5, 9), np.arange(9, 13)))\n"
   ]
  },
  {
   "cell_type": "code",
   "execution_count": null,
   "id": "086b0015",
   "metadata": {},
   "outputs": [],
   "source": [
    "# Stacking arrays horizontally\n",
    "np.row_stack((np.arange(1, 5), np.arange(5, 9), np.arange(9, 13)))\n"
   ]
  },
  {
   "cell_type": "markdown",
   "id": "8fe4db34",
   "metadata": {},
   "source": [
    "### Matrix functions"
   ]
  },
  {
   "cell_type": "code",
   "execution_count": null,
   "id": "2a235ea6",
   "metadata": {},
   "outputs": [],
   "source": [
    "a = np.array([[1, 2], [3, 4]])\n",
    "a"
   ]
  },
  {
   "cell_type": "code",
   "execution_count": null,
   "id": "d5350e04",
   "metadata": {},
   "outputs": [],
   "source": [
    "# matrix product\n",
    "a.dot(a)\n"
   ]
  },
  {
   "cell_type": "code",
   "execution_count": null,
   "id": "31545218",
   "metadata": {},
   "outputs": [],
   "source": [
    "# inverse matrix\n",
    "np.linalg.inv(a)\n"
   ]
  },
  {
   "cell_type": "code",
   "execution_count": null,
   "id": "e14bc330",
   "metadata": {},
   "outputs": [],
   "source": [
    "# transpose of a matrix\n",
    "a.T\n"
   ]
  },
  {
   "cell_type": "markdown",
   "id": "4e1f9f0a",
   "metadata": {},
   "source": [
    "### Exercises\n",
    "\n",
    "Sort the vector `height` by decreasing order of `weight`"
   ]
  },
  {
   "cell_type": "code",
   "execution_count": null,
   "id": "126aff1a",
   "metadata": {},
   "outputs": [],
   "source": [
    "sorted_indices = np.argsort(weight)[::-1]  # descending order indices\n",
    "height[sorted_indices]"
   ]
  },
  {
   "cell_type": "markdown",
   "id": "a92bafdb",
   "metadata": {},
   "source": [
    "---\n",
    "\n",
    "## Categories, Lists and data frames\n",
    "\n",
    "### Factors / Categorical Data"
   ]
  },
  {
   "cell_type": "markdown",
   "id": "5517771d",
   "metadata": {},
   "source": [
    "We can convert an array into a categorical data type using the from_codes method from the pandas library. <br>\n",
    "The from_codes method takes two main arguments:\n",
    "- codes: An array-like of integers where each integer points to a category.\n",
    "- categories: A list of category names corresponding to the integer codes. \n",
    "\n",
    "In this case, the pain array [0, 3, 2, 2, 1] is mapped to the categories [\"non\", \"mild\", \"medium\", \"severe\"]<br>"
   ]
  },
  {
   "cell_type": "code",
   "execution_count": null,
   "id": "311d5b58",
   "metadata": {},
   "outputs": [],
   "source": [
    "pain = np.array([0,3,2,2,1])\n",
    "categories = pd.Categorical.from_codes(pain, categories=[\"non\",\"mild\",\"medium\",\"severe\"])\n",
    "categories"
   ]
  },
  {
   "cell_type": "markdown",
   "id": "47cb2943",
   "metadata": {},
   "source": [
    "### Lists\n",
    "\n",
    "In Python, lists are just Python lists. For structured data, we often use dictionaries or data frames."
   ]
  },
  {
   "cell_type": "code",
   "execution_count": null,
   "id": "3f933352",
   "metadata": {},
   "outputs": [],
   "source": [
    "intake_pre = np.array([5260, 5470, 5640, 6180, 6390,6515, 6805, 7515, 7515, 8230, 8770])\n",
    "intake_post = np.array([3910, 4220, 3885, 5160, 5645,4680, 5265, 5975, 6790, 6900, 7335])\n",
    "\n",
    "mylist = {\"before\": intake_pre, \"after\": intake_post}\n",
    "mylist[\"before\"]"
   ]
  },
  {
   "cell_type": "markdown",
   "id": "3ccd8a43",
   "metadata": {},
   "source": [
    "### Data frames\n",
    "\n",
    "In Python, data frames are handled by pandas."
   ]
  },
  {
   "cell_type": "code",
   "execution_count": null,
   "id": "cc9854ba",
   "metadata": {},
   "outputs": [],
   "source": [
    "d = pd.DataFrame({\"intake_pre\": intake_pre, \"intake_post\": intake_post})\n",
    "d\n",
    "d[\"intake_pre\"]"
   ]
  },
  {
   "cell_type": "markdown",
   "id": "6086b322",
   "metadata": {},
   "source": [
    "---\n",
    "\n",
    "## Loops & conditions\n",
    "\n",
    "### Loops"
   ]
  },
  {
   "cell_type": "code",
   "execution_count": null,
   "id": "d09ed6bd",
   "metadata": {},
   "outputs": [],
   "source": [
    "for i in range(5):\n",
    "    print(i)"
   ]
  },
  {
   "cell_type": "markdown",
   "id": "61c0b40d",
   "metadata": {},
   "source": [
    "### While loop"
   ]
  },
  {
   "cell_type": "code",
   "execution_count": null,
   "id": "d66f4615",
   "metadata": {},
   "outputs": [],
   "source": [
    "count = 0\n",
    "while count < 5:\n",
    "    print(count)\n",
    "    count += 1"
   ]
  },
  {
   "cell_type": "markdown",
   "id": "42e9da45",
   "metadata": {},
   "source": [
    "### Conditions"
   ]
  },
  {
   "cell_type": "code",
   "execution_count": null,
   "id": "fbc1a3e4",
   "metadata": {},
   "outputs": [],
   "source": [
    "val = 10\n",
    "if val > 0:\n",
    "    print(\"Positive\")\n",
    "elif val < 0:\n",
    "    print(\"Negative\")\n",
    "else:\n",
    "    print(\"Zero\")"
   ]
  },
  {
   "cell_type": "markdown",
   "id": "f64cc7fa",
   "metadata": {},
   "source": [
    "### Apply-like operations\n",
    "\n",
    "In Python, you often use vectorized operations with NumPy, or `apply`-like methods in pandas.\n",
    "\n",
    "For a `DataFrame` `df`:"
   ]
  },
  {
   "cell_type": "code",
   "execution_count": null,
   "id": "09b68462",
   "metadata": {},
   "outputs": [],
   "source": [
    "# mean of each column\n",
    "d.mean()"
   ]
  },
  {
   "cell_type": "code",
   "execution_count": null,
   "id": "f1f7abf7",
   "metadata": {},
   "outputs": [],
   "source": [
    "# apply function to each column\n",
    "d.apply(np.mean)"
   ]
  },
  {
   "cell_type": "code",
   "execution_count": null,
   "id": "5df1c6e0",
   "metadata": {},
   "outputs": [],
   "source": [
    "# for each row\n",
    "d.apply(np.mean, axis=1)"
   ]
  },
  {
   "cell_type": "markdown",
   "id": "7272839e",
   "metadata": {},
   "source": [
    "### Exercise \n",
    "\n",
    "Compute the mean of the data frame `thuesen` to get the result as a list, and as a vector. <br>\n",
    "The thuesen dataset in R is part of the ISwR package and contains data on blood glucose levels and short velocity.  <br>\n",
    "We create it for you here. <br>"
   ]
  },
  {
   "cell_type": "code",
   "execution_count": null,
   "id": "27d025d2",
   "metadata": {},
   "outputs": [],
   "source": [
    "import pandas as pd\n",
    "\n",
    "# Create a dictionary with the data\n",
    "data = {\n",
    "    'blood_glucose': [4.03, 4.14, 4.21, 4.27, 4.35, 4.47, 4.57, 4.60, 4.61, 4.63, 4.65, 4.66, 4.67, 4.68, 4.70, 4.71, 4.72, 4.73, 4.74, 4.75, 4.76, 4.77, 4.78, 4.79, 4.80, 4.81, 4.82, 4.83, 4.84, 4.85],\n",
    "    'short_velocity': [2.91, 2.99, 3.02, 3.05, 3.08, 3.12, 3.15, 3.17, 3.18, 3.19, 3.20, 3.21, 3.22, 3.23, 3.24, 3.25, 3.26, 3.27, 3.28, 3.29, 3.30, 3.31, 3.32, 3.33, 3.34, 3.35, 3.36, 3.37, 3.38, 3.39]\n",
    "}\n",
    "\n",
    "# Create a DataFrame\n",
    "thuesen_df = pd.DataFrame(data)\n",
    "thuesen_df\n"
   ]
  },
  {
   "cell_type": "code",
   "execution_count": null,
   "id": "f08a137c",
   "metadata": {},
   "outputs": [],
   "source": [
    "mean_list = thuesen_df.mean().to_list()\n",
    "mean_list"
   ]
  },
  {
   "cell_type": "code",
   "execution_count": null,
   "id": "82cd794c",
   "metadata": {},
   "outputs": [],
   "source": [
    "mean_vector = thuesen_df.mean().values\n",
    "mean_vector"
   ]
  },
  {
   "cell_type": "markdown",
   "id": "d9b114cf",
   "metadata": {},
   "source": [
    "---\n",
    "\n",
    "## Functions\n",
    "\n",
    "### Defining functions"
   ]
  },
  {
   "cell_type": "code",
   "execution_count": null,
   "id": "b307c6c6",
   "metadata": {},
   "outputs": [],
   "source": [
    "def compute_sum(x):\n",
    "    cleaned = x[~pd.isnull(x)]\n",
    "    s = cleaned.sum()\n",
    "    mean_val = cleaned.mean()\n",
    "    return {\"sum\": s, \"mean\": mean_val}\n",
    "\n",
    "compute_sum(np.array([1,2,-4,np.nan,6]))"
   ]
  },
  {
   "cell_type": "markdown",
   "id": "919e85b1",
   "metadata": {},
   "source": [
    "In Python, a set of functions can be saved in a .py file and then importing them into your script. <br>\n",
    "You can import the functions using the `import` statement"
   ]
  },
  {
   "cell_type": "markdown",
   "id": "2aeb0608",
   "metadata": {},
   "source": [
    "---\n",
    "\n",
    "## Plotting"
   ]
  },
  {
   "cell_type": "code",
   "execution_count": 247,
   "id": "2b598d4c",
   "metadata": {},
   "outputs": [],
   "source": [
    "import matplotlib.pyplot as plt"
   ]
  },
  {
   "cell_type": "code",
   "execution_count": null,
   "id": "c334dd35",
   "metadata": {},
   "outputs": [],
   "source": [
    "plt.scatter(height, weight)\n",
    "plt.title(\"height vs weight\")\n",
    "plt.xlabel(\"height\")\n",
    "plt.ylabel(\"weight\")\n",
    "plt.show()"
   ]
  },
  {
   "cell_type": "markdown",
   "id": "c460f4a9",
   "metadata": {},
   "source": [
    "Add a line:"
   ]
  },
  {
   "cell_type": "code",
   "execution_count": null,
   "id": "253779df",
   "metadata": {},
   "outputs": [],
   "source": [
    "hh = np.array([1.65, 1.70, 1.75, 1.80, 1.85, 1.90])\n",
    "plt.scatter(height, weight)\n",
    "plt.plot(hh, 22.5 * hh**2, color='red')\n",
    "plt.show()"
   ]
  },
  {
   "cell_type": "markdown",
   "id": "4aab94bd",
   "metadata": {},
   "source": [
    "Save plot:"
   ]
  },
  {
   "cell_type": "code",
   "execution_count": 250,
   "id": "b1e1ec89",
   "metadata": {},
   "outputs": [],
   "source": [
    "plt.figure()\n",
    "plt.scatter(height, weight)\n",
    "plt.plot(hh, 22.5 * hh**2, color='red')\n",
    "plt.savefig(\"myplot.png\")\n",
    "plt.close()"
   ]
  },
  {
   "cell_type": "markdown",
   "id": "86ba78aa",
   "metadata": {},
   "source": [
    "---\n",
    "\n",
    "## Probabilities and distributions\n",
    "\n",
    "\n",
    "### Sampling"
   ]
  },
  {
   "cell_type": "code",
   "execution_count": 251,
   "id": "849a694e",
   "metadata": {},
   "outputs": [],
   "source": [
    "np.random.seed(123456)"
   ]
  },
  {
   "cell_type": "code",
   "execution_count": null,
   "id": "d65e96db",
   "metadata": {},
   "outputs": [],
   "source": [
    "# draw 5 integers between 1 and 40\n",
    "np.random.choice(np.arange(1,41), 5, replace=False)"
   ]
  },
  {
   "cell_type": "code",
   "execution_count": null,
   "id": "1082ebb1",
   "metadata": {},
   "outputs": [],
   "source": [
    "# coin tosses\n",
    "np.random.choice([\"H\",\"T\"], 10, replace=True)"
   ]
  },
  {
   "cell_type": "code",
   "execution_count": null,
   "id": "56a8e884",
   "metadata": {},
   "outputs": [],
   "source": [
    "# biased coin toss\n",
    "np.random.choice([\"H\",\"T\"], 10, replace=True, p=[0.8,0.2])"
   ]
  },
  {
   "cell_type": "markdown",
   "id": "330c7b56",
   "metadata": {},
   "source": [
    "### Distributions with scipy.stats\n",
    "In Python, you can use the scipy.stats module to perform computations for probability distributions. Here is how you can compute the density, distribution function, quantiles, and pseudo-random numbers for a normal distribution, and plot the normal density"
   ]
  },
  {
   "cell_type": "code",
   "execution_count": 255,
   "id": "126ba4be",
   "metadata": {},
   "outputs": [],
   "source": [
    "import numpy as np\n",
    "import matplotlib.pyplot as plt\n",
    "from scipy.stats import norm"
   ]
  },
  {
   "cell_type": "code",
   "execution_count": 256,
   "id": "20b71296",
   "metadata": {},
   "outputs": [],
   "source": [
    "# Parameters for the normal distribution\n",
    "mean = 0\n",
    "std_dev = 1\n",
    "\n",
    "# Density (Probability Density Function)\n",
    "x = np.linspace(-5, 5, 100)\n",
    "density = norm.pdf(x, mean, std_dev)"
   ]
  },
  {
   "cell_type": "code",
   "execution_count": null,
   "id": "b9fb14c0",
   "metadata": {},
   "outputs": [],
   "source": [
    "# Distribution Function (Cumulative Distribution Function)\n",
    "distribution = norm.cdf(x, mean, std_dev)\n",
    "distribution"
   ]
  },
  {
   "cell_type": "code",
   "execution_count": null,
   "id": "1223f499",
   "metadata": {},
   "outputs": [],
   "source": [
    "# Quantiles (Inverse of CDF)\n",
    "quantiles = norm.ppf([0.025, 0.5, 0.975], mean, std_dev)\n",
    "quantiles"
   ]
  },
  {
   "cell_type": "code",
   "execution_count": null,
   "id": "7903046a",
   "metadata": {},
   "outputs": [],
   "source": [
    "# Random Numbers\n",
    "random_numbers = norm.rvs(mean, std_dev, size=1000)\n",
    "random_numbers"
   ]
  },
  {
   "cell_type": "code",
   "execution_count": null,
   "metadata": {},
   "outputs": [],
   "source": [
    "plt.plot(x, density, label='Normal Density')\n",
    "plt.title('Normal Density Function')\n",
    "plt.xlabel('x')\n",
    "plt.ylabel('Density')\n",
    "plt.legend()\n",
    "plt.show()"
   ]
  },
  {
   "cell_type": "markdown",
   "id": "e5021a29",
   "metadata": {},
   "source": [
    "#### Exercises\n",
    "\n",
    "Plot the density for a binomial random variable $B(50, 0.33)$"
   ]
  },
  {
   "cell_type": "code",
   "execution_count": null,
   "id": "414932b0",
   "metadata": {},
   "outputs": [],
   "source": [
    "from scipy.stats import binom\n",
    "\n",
    "x = np.arange(51)\n",
    "pmf_vals = binom.pmf(x, n=50, p=0.33)\n",
    "plt.bar(x, pmf_vals)\n",
    "plt.title(\"Binomial B(50,0.33)\")\n",
    "plt.show()"
   ]
  },
  {
   "cell_type": "markdown",
   "id": "da2520a6",
   "metadata": {},
   "source": [
    "* Compute the probability of a normally distributed variable with mean 132 and standard deviation 13 being smaller than 160\n"
   ]
  },
  {
   "cell_type": "code",
   "execution_count": null,
   "id": "c49a0b44",
   "metadata": {},
   "outputs": [],
   "source": [
    "norm.cdf(160, loc=132, scale=13)"
   ]
  },
  {
   "cell_type": "markdown",
   "id": "2406032e",
   "metadata": {},
   "source": [
    "### Quantiles\n",
    "\n",
    "* Definition: the quantile is the inverse of the distribution function. The p-quantile is by definition that value having the property that there is a probability $p$ to obtain a value lower or equal to it. For example, the median is the 50% quantile.\n",
    "* The quantiles are used for computing the confidence intervals. Let $n$ observations be drawn from a normal distribution with the same mean $\\mu$ and the same standard-deviation $\\sigma$. It is well known that the observed mean $\\overline{x}$ follows a normal distribution with mean $\\mu$ and standard deviation $\\sigma/\\sqrt{n}$. A confidance interval of 95% for $\\mu$ can be obtained by\n",
    "\n",
    "\\begin{equation}\n",
    "\\overline{x} + \\sigma/\\sqrt{n} \\times N_{0.025} \\leq \\mu \\leq  \\overline{x} + \\sigma/\\sqrt{n} \\times N_{0.975}\n",
    "\\end{equation}\n",
    "     \n",
    "where $N_{0.025}$ is the 2.5% quantile of the normal distribution."
   ]
  },
  {
   "cell_type": "code",
   "execution_count": null,
   "id": "b8294c69",
   "metadata": {},
   "outputs": [],
   "source": [
    "# 2.5% and 97.5% quantiles\n",
    "q025 = norm.ppf(0.025)\n",
    "q975 = norm.ppf(0.975)\n",
    "q025, q975"
   ]
  },
  {
   "cell_type": "markdown",
   "id": "2d8d835f",
   "metadata": {
    "lines_to_next_cell": 0
   },
   "source": [
    "Confidence interval:"
   ]
  },
  {
   "cell_type": "code",
   "execution_count": null,
   "id": "0ddad284",
   "metadata": {},
   "outputs": [],
   "source": [
    "xbar = 83\n",
    "sigma = 12\n",
    "n = 5\n",
    "sem = sigma / np.sqrt(n)\n",
    "lower = xbar + sem * q025\n",
    "upper = xbar + sem * q975\n",
    "(lower, upper)"
   ]
  },
  {
   "cell_type": "markdown",
   "id": "877cb36b",
   "metadata": {},
   "source": [
    "### Generation of pseudo-random numbers\n"
   ]
  },
  {
   "cell_type": "code",
   "execution_count": null,
   "id": "4a28f6f4",
   "metadata": {},
   "outputs": [],
   "source": [
    "np.random.randn(10)  # standard normal"
   ]
  },
  {
   "cell_type": "code",
   "execution_count": null,
   "id": "59f18e05",
   "metadata": {},
   "outputs": [],
   "source": [
    "np.random.normal(7,5,10) # normal with mean=7, sd=5"
   ]
  },
  {
   "cell_type": "code",
   "execution_count": null,
   "id": "a578dccb",
   "metadata": {},
   "outputs": [],
   "source": [
    "np.random.binomial(20,0.5,10)"
   ]
  },
  {
   "cell_type": "markdown",
   "id": "4d535ac7",
   "metadata": {},
   "source": [
    "---\n",
    "\n",
    "## Descriptive statistics"
   ]
  },
  {
   "cell_type": "code",
   "execution_count": 268,
   "id": "2455404e",
   "metadata": {},
   "outputs": [],
   "source": [
    "# Generate 50 random numbers from a standard normal distribution\n",
    "x = np.random.randn(50)"
   ]
  },
  {
   "cell_type": "code",
   "execution_count": null,
   "id": "c91c48cf",
   "metadata": {},
   "outputs": [],
   "source": [
    "# Compute the mean of the array\n",
    "x.mean()"
   ]
  },
  {
   "cell_type": "code",
   "execution_count": null,
   "id": "d48f33bf",
   "metadata": {},
   "outputs": [],
   "source": [
    "# Compute the variance of the array with degrees of freedom 1\n",
    "x.var(ddof=1)"
   ]
  },
  {
   "cell_type": "code",
   "execution_count": null,
   "id": "bebc3198",
   "metadata": {},
   "outputs": [],
   "source": [
    "# Compute the standard deviation of the array with degrees of freedom 1\n",
    "x.std(ddof=1)"
   ]
  },
  {
   "cell_type": "code",
   "execution_count": null,
   "id": "a9bf0508",
   "metadata": {},
   "outputs": [],
   "source": [
    "# Compute the median of the array\n",
    "np.median(x)"
   ]
  },
  {
   "cell_type": "markdown",
   "id": "c63dbc7c",
   "metadata": {},
   "source": [
    "Quantiles:"
   ]
  },
  {
   "cell_type": "code",
   "execution_count": 273,
   "id": "90227429",
   "metadata": {},
   "outputs": [],
   "source": [
    "# Define a vector of probabilities from 0 to 1 in increments of 0.1\n",
    "pvec = np.arange(0, 1.1, 0.1)"
   ]
  },
  {
   "cell_type": "code",
   "execution_count": null,
   "id": "7003974a",
   "metadata": {},
   "outputs": [],
   "source": [
    "# Compute the quantiles of the array x at the specified probabilities\n",
    "np.quantile(x, pvec)"
   ]
  },
  {
   "cell_type": "markdown",
   "id": "d55a450b",
   "metadata": {},
   "source": [
    "### Plotting distributions\n",
    "\n",
    "* Histogram and empirical cumulative distribution (the empirical distribution function is defined as the number of data points smaller or equal to $x$ devided by the total number of points)\n"
   ]
  },
  {
   "cell_type": "code",
   "execution_count": null,
   "id": "83dd44b2",
   "metadata": {},
   "outputs": [],
   "source": [
    "# Parameters for the normal distribution\n",
    "mean = 0\n",
    "std_dev = 1\n",
    "\n",
    "# Generate random numbers\n",
    "random_numbers = norm.rvs(mean, std_dev, size=1000)\n",
    "\n",
    "# Sort the random numbers\n",
    "sorted_numbers = np.sort(random_numbers)\n",
    "\n",
    "# Compute the ECDF values\n",
    "ecdf = np.arange(1, len(sorted_numbers) + 1) / len(sorted_numbers)\n",
    "\n",
    "# Create a figure with two subplots\n",
    "fig, axes = plt.subplots(1, 2, figsize=(12, 6))\n",
    "\n",
    "# Plot Histogram\n",
    "axes[0].hist(random_numbers, bins=30, density=True, alpha=0.6, color='g')\n",
    "axes[0].set_title('Histogram of Normal Distribution')\n",
    "axes[0].set_xlabel('Value')\n",
    "axes[0].set_ylabel('Frequency')\n",
    "\n",
    "# Plot ECDF\n",
    "axes[1].plot(sorted_numbers, ecdf, marker='.', linestyle='none')\n",
    "axes[1].set_title('Empirical Cumulative Distribution Function (ECDF)')\n",
    "axes[1].set_xlabel('Value')\n",
    "axes[1].set_ylabel('ECDF')\n",
    "\n",
    "# Show the plots\n",
    "plt.tight_layout()\n",
    "plt.show()"
   ]
  },
  {
   "cell_type": "markdown",
   "id": "212e7ad3",
   "metadata": {},
   "source": [
    "Boxplot:"
   ]
  },
  {
   "cell_type": "markdown",
   "id": "3609875c",
   "metadata": {},
   "source": [
    "* In a boxplot, the box in the middle of the graph indicates the quartiles and the median.The two horizontal lines represent the largest (or the smallest) observation which falls within a distance of 1.5 times the size of the box. The observations outside this box are considered as \"extremes\" and are noted by points."
   ]
  },
  {
   "cell_type": "code",
   "execution_count": null,
   "id": "b79625b5",
   "metadata": {},
   "outputs": [],
   "source": [
    "# Parameters for the normal distribution\n",
    "mean = 0\n",
    "std_dev = 1\n",
    "\n",
    "# Generate random numbers\n",
    "random_numbers = norm.rvs(mean, std_dev, size=1000)\n",
    "\n",
    "# Create a figure\n",
    "fig, ax = plt.subplots(figsize=(8, 6))\n",
    "\n",
    "# Plot Boxplot\n",
    "ax.boxplot(random_numbers)\n",
    "ax.set_title('Boxplot of Normal Distribution')\n",
    "ax.set_xlabel('Value')\n",
    "\n",
    "# Show the plot\n",
    "plt.tight_layout()\n",
    "plt.show()"
   ]
  },
  {
   "cell_type": "markdown",
   "id": "7c36f457",
   "metadata": {},
   "source": [
    "---\n",
    "\n",
    "## Grouped data\n",
    "We are presenting here some techniques for comparing plots between groups."
   ]
  },
  {
   "cell_type": "markdown",
   "id": "71383eed",
   "metadata": {},
   "source": [
    "Consider the following dataset"
   ]
  },
  {
   "cell_type": "code",
   "execution_count": 277,
   "id": "541b7fea",
   "metadata": {},
   "outputs": [],
   "source": [
    "energy_data = pd.DataFrame({\n",
    "    \"expend\": [9.21,7.53,7.48,8.08,8.09,10.15,8.40,10.88,6.13,7.90,\n",
    "               11.51,12.79,7.05,11.85,9.97,7.48,8.79,9.69,9.68,7.58,9.19,8.11],\n",
    "    \"stature\": [\"obese\",\"lean\",\"lean\",\"lean\",\"lean\",\"lean\",\"lean\",\"lean\",\"lean\",\"lean\",\n",
    "                \"obese\",\"obese\",\"lean\",\"obese\",\"obese\",\"lean\",\"obese\",\"obese\",\"obese\",\"lean\",\"obese\",\"lean\"]\n",
    "})"
   ]
  },
  {
   "cell_type": "markdown",
   "id": "5d9ab0ee",
   "metadata": {},
   "source": [
    "Histograms by group:"
   ]
  },
  {
   "cell_type": "code",
   "execution_count": null,
   "id": "f5b1c9d4",
   "metadata": {},
   "outputs": [],
   "source": [
    "expend_lean = energy_data.loc[energy_data.stature==\"lean\",\"expend\"]\n",
    "expend_obese = energy_data.loc[energy_data.stature==\"obese\",\"expend\"]\n",
    "\n",
    "plt.figure(figsize=(8,4))\n",
    "plt.subplot(1,2,1)\n",
    "plt.hist(expend_lean, bins=10, color=\"white\", edgecolor='black')\n",
    "plt.xlim(5,13)\n",
    "plt.ylim(0,4)\n",
    "plt.title(\"Lean\")\n",
    "\n",
    "plt.subplot(1,2,2)\n",
    "plt.hist(expend_obese, bins=10, color=\"grey\", edgecolor='black')\n",
    "plt.xlim(5,13)\n",
    "plt.ylim(0,4)\n",
    "plt.title(\"Obese\")\n",
    "\n",
    "plt.tight_layout()\n",
    "plt.show()"
   ]
  },
  {
   "cell_type": "markdown",
   "id": "7136628a",
   "metadata": {},
   "source": [
    "Parallel boxplots:"
   ]
  },
  {
   "cell_type": "code",
   "execution_count": null,
   "id": "0699cce3",
   "metadata": {},
   "outputs": [],
   "source": [
    "plt.boxplot([expend_lean, expend_obese], labels=[\"Lean\",\"Obese\"])\n",
    "plt.title(\"Expenditure by Stature\")\n",
    "plt.show()"
   ]
  },
  {
   "cell_type": "markdown",
   "id": "355cf227",
   "metadata": {},
   "source": [
    "---\n",
    "\n",
    "## Tables\n",
    "\n",
    "*  A bi-dimensional table can be generated using `np.array`. The following example concerns the caffeine consumption while giving birth, with respect to women's civil status."
   ]
  },
  {
   "cell_type": "code",
   "execution_count": null,
   "id": "358e16fe",
   "metadata": {},
   "outputs": [],
   "source": [
    "caff_marital = np.array([\n",
    " [652,1537,598,242],\n",
    " [36,46,38,21],\n",
    " [218,327,106,67]\n",
    "])\n",
    "\n",
    "rows = [\"Married\",\"Prev.married\",\"Single\"]\n",
    "cols = [\"0\",\"1-150\",\"151-300\",\">300\"]\n",
    "caff_df = pd.DataFrame(caff_marital, index=rows, columns=cols)\n",
    "caff_df"
   ]
  },
  {
   "cell_type": "markdown",
   "id": "ca7df028",
   "metadata": {},
   "source": [
    "Marginal tables:"
   ]
  },
  {
   "cell_type": "code",
   "execution_count": null,
   "id": "05a86ba7",
   "metadata": {},
   "outputs": [],
   "source": [
    "caff_df.sum(axis=1) # row sums"
   ]
  },
  {
   "cell_type": "code",
   "execution_count": null,
   "id": "83610e39",
   "metadata": {},
   "outputs": [],
   "source": [
    "caff_df.sum(axis=0) # column sums"
   ]
  },
  {
   "cell_type": "markdown",
   "id": "fdd4dce9",
   "metadata": {},
   "source": [
    "Relative frequencies:"
   ]
  },
  {
   "cell_type": "code",
   "execution_count": null,
   "id": "ad04b78f",
   "metadata": {},
   "outputs": [],
   "source": [
    "caff_df.apply(lambda r: r/r.sum(), axis=1) # row-wise proportions"
   ]
  },
  {
   "cell_type": "code",
   "execution_count": null,
   "id": "eda78047",
   "metadata": {},
   "outputs": [],
   "source": [
    "caff_df / caff_df.sum().sum() # overall proportions\n"
   ]
  },
  {
   "cell_type": "markdown",
   "id": "ffbbe821",
   "metadata": {},
   "source": [
    "### Graphical display of tables\n",
    "\n",
    "Bar plots:"
   ]
  },
  {
   "cell_type": "code",
   "execution_count": null,
   "id": "1496910e",
   "metadata": {},
   "outputs": [],
   "source": [
    "total_caff = caff_df.sum(axis=1)\n",
    "total_caff.plot.bar(color='black')\n",
    "plt.show()"
   ]
  },
  {
   "cell_type": "markdown",
   "id": "1212dc6b",
   "metadata": {},
   "source": [
    "Stacked barplot:"
   ]
  },
  {
   "cell_type": "code",
   "execution_count": null,
   "id": "b67b4bc2",
   "metadata": {},
   "outputs": [],
   "source": [
    "caff_df.plot(kind='bar', stacked=True)\n",
    "plt.show()"
   ]
  },
  {
   "cell_type": "markdown",
   "id": "fc8b21e0",
   "metadata": {},
   "source": [
    "Side-by-side (unstack and plot):"
   ]
  },
  {
   "cell_type": "code",
   "execution_count": null,
   "id": "75f9fc02",
   "metadata": {},
   "outputs": [],
   "source": [
    "caff_df.T.plot.bar(figsize=(6,4))\n",
    "plt.show()"
   ]
  },
  {
   "cell_type": "markdown",
   "id": "c37cdcbf",
   "metadata": {},
   "source": [
    "Normalized proportions:"
   ]
  },
  {
   "cell_type": "code",
   "execution_count": null,
   "id": "030d6990",
   "metadata": {},
   "outputs": [],
   "source": [
    "(caff_df.T / caff_df.T.sum()).plot.bar(stacked=True)\n",
    "plt.show()"
   ]
  },
  {
   "cell_type": "markdown",
   "id": "03e1f06b",
   "metadata": {},
   "source": [
    "Create a scatterplot with the same information as the previous bar plots"
   ]
  },
  {
   "cell_type": "code",
   "execution_count": null,
   "id": "6448d0ff",
   "metadata": {},
   "outputs": [],
   "source": [
    "# Flatten and plot as dot chart\n",
    "vals = caff_df.values.flatten()\n",
    "labels = [(r,c) for r in rows for c in cols]\n",
    "ypos = np.arange(len(vals))\n",
    "plt.scatter(vals, ypos)\n",
    "plt.yticks(ypos, labels)\n",
    "plt.title(\"Scatterplot of caff.marital\")\n",
    "plt.show()"
   ]
  },
  {
   "cell_type": "markdown",
   "id": "93d7b9a4",
   "metadata": {},
   "source": [
    "Pie charts:"
   ]
  },
  {
   "cell_type": "code",
   "execution_count": null,
   "id": "c7b30961",
   "metadata": {},
   "outputs": [],
   "source": [
    "fig, axes = plt.subplots(1,3, figsize=(8,8))\n",
    "for i, (ax, row) in enumerate(zip(axes.flat, rows)):\n",
    "    ax.pie(caff_df.loc[row], labels=cols, autopct='%1.1f%%')\n",
    "    ax.set_title(row)\n",
    "plt.tight_layout()\n",
    "plt.show()"
   ]
  },
  {
   "cell_type": "markdown",
   "id": "24ea9db9",
   "metadata": {},
   "source": [
    "---\n",
    "\n",
    "## Common Errors\n",
    "\n",
    "- Mixing data types: In pandas DataFrames, adding rows of different lengths or data types leads to missing values (NaN) or errors.\n",
    "\n",
    "- Missing data: Pandas uses `NaN` for missing data. Operations must handle these values (e.g. `df[\"c\"]` might not exist; `NaN` propagate in computations).\n",
    "\n",
    "---\n",
    "\n",
    "## Debugging\n",
    "\n",
    "For debugging, Python provides `print()` statements, `assert` statements, `pdb` (Python debugger), or IDE features like breakpoints."
   ]
  },
  {
   "cell_type": "code",
   "execution_count": null,
   "id": "b0c9125a",
   "metadata": {},
   "outputs": [],
   "source": [
    "def f(a): return g(a)\n",
    "def g(b): return h(b)\n",
    "def h(c): return i(c)\n",
    "def i(d):\n",
    "    if not isinstance(d, (int,float)):\n",
    "        raise ValueError(\"`d` must be numeric\")\n",
    "    return d + 10\n",
    "\n",
    "try:\n",
    "    f(\"a\")\n",
    "except Exception as e:\n",
    "    print(\"Error:\", e)"
   ]
  },
  {
   "cell_type": "markdown",
   "id": "0c7ad1c6",
   "metadata": {},
   "source": [
    "We get a traceback showing where the error occurred. We can also use `import pdb; pdb.set_trace()` inside functions to debug step-by-step.\n",
    "\n",
    "---\n",
    "\n",
    "## Session info-like commands in Python"
   ]
  },
  {
   "cell_type": "code",
   "execution_count": null,
   "id": "11874319",
   "metadata": {},
   "outputs": [],
   "source": [
    "import sys\n",
    "sys.version\n",
    "import platform\n",
    "platform.platform()\n",
    "\n",
    "import pip\n",
    "# To list installed packages:\n",
    "!pip list"
   ]
  },
  {
   "cell_type": "markdown",
   "id": "0499937f",
   "metadata": {},
   "source": [
    "---\n"
   ]
  }
 ],
 "metadata": {
  "jupytext": {
   "cell_metadata_filter": "-all",
   "main_language": "python",
   "notebook_metadata_filter": "-all"
  },
  "kernelspec": {
   "display_name": "tsw24",
   "language": "python",
   "name": "python3"
  },
  "language_info": {
   "codemirror_mode": {
    "name": "ipython",
    "version": 3
   },
   "file_extension": ".py",
   "mimetype": "text/x-python",
   "name": "python",
   "nbconvert_exporter": "python",
   "pygments_lexer": "ipython3",
   "version": "3.11.9"
  }
 },
 "nbformat": 4,
 "nbformat_minor": 5
}
